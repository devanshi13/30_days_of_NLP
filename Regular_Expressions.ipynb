{
  "nbformat": 4,
  "nbformat_minor": 0,
  "metadata": {
    "colab": {
      "name": "Regular Expressions.ipynb",
      "provenance": [],
      "collapsed_sections": []
    },
    "kernelspec": {
      "name": "python3",
      "display_name": "Python 3"
    }
  },
  "cells": [
    {
      "cell_type": "code",
      "metadata": {
        "id": "FlLhew5MjUlT"
      },
      "source": [
        "import re"
      ],
      "execution_count": 1,
      "outputs": []
    },
    {
      "cell_type": "code",
      "metadata": {
        "id": "COEMcjdpjWm1"
      },
      "source": [
        "text = \"\"\"This is a point where a lot of people don’t agree. The path to becoming a software developer is changing. \n",
        "        College is no longer the hard requirement for entry to the industry that it once was. \n",
        "        Tech giants such as Google and Apple have even begun to waive their requirement for bachelors degrees. \n",
        "        This is because innovative companies recognise that the people that they want to work with are passionate, self driven and eager to take initiative. \n",
        "        All these things do not explicitly require a degree and with the vast amount of resources on the internet you can pretty much teach yourself \n",
        "        anything at home, as long as you are willing to put in the effort. \n",
        "        That being said, doing well in college is a big bonus and should not be understated. \n",
        "        Therefore my advice is this, if your situation does not allow you to attend college, don’t dwell on it, \n",
        "        there are many other avenues open to you. If you are in college, then you need to crush it.\"\"\""
      ],
      "execution_count": 2,
      "outputs": []
    },
    {
      "cell_type": "code",
      "metadata": {
        "id": "I-9T4mVPj8gt",
        "outputId": "ec22a979-8faf-4d59-d77f-887718fa5f60",
        "colab": {
          "base_uri": "https://localhost:8080/",
          "height": 51
        }
      },
      "source": [
        "#re.match - finds if a pattern occurs at the start of the string\n",
        "result = re.match('requirement', text)\n",
        "print(result)\n",
        "result2 = re.match('This', text)\n",
        "print(result2.group(0))"
      ],
      "execution_count": 31,
      "outputs": [
        {
          "output_type": "stream",
          "text": [
            "None\n",
            "This\n"
          ],
          "name": "stdout"
        }
      ]
    },
    {
      "cell_type": "code",
      "metadata": {
        "id": "T1Pv3GM0kqjV",
        "outputId": "6fbea6ad-7678-47ab-e70d-e5f6a3a36564",
        "colab": {
          "base_uri": "https://localhost:8080/",
          "height": 34
        }
      },
      "source": [
        "#re.search - it can find the pattern at any position of the string but it will only return the first occurence\n",
        "result = re.search('requirement', text)\n",
        "print(result.group(0))"
      ],
      "execution_count": 11,
      "outputs": [
        {
          "output_type": "stream",
          "text": [
            "requirement\n"
          ],
          "name": "stdout"
        }
      ]
    },
    {
      "cell_type": "code",
      "metadata": {
        "id": "1nR-OsuRk2l3",
        "outputId": "bbfde647-1cff-4324-e618-4e13fe79ad04",
        "colab": {
          "base_uri": "https://localhost:8080/",
          "height": 34
        }
      },
      "source": [
        "#re.findall - it will find all the matching pattern occurence at any position of the string\n",
        "result = re.findall('requirement', text)\n",
        "print(result)"
      ],
      "execution_count": 12,
      "outputs": [
        {
          "output_type": "stream",
          "text": [
            "['requirement', 'requirement']\n"
          ],
          "name": "stdout"
        }
      ]
    },
    {
      "cell_type": "code",
      "metadata": {
        "id": "uFzW0iM3lXOh",
        "outputId": "4de31af8-bfa9-4a55-af4c-a0fda43fd6ac",
        "colab": {
          "base_uri": "https://localhost:8080/",
          "height": 54
        }
      },
      "source": [
        "#re.split - this will split the string by occurences of given pattern\n",
        "result = re.split('[a e i o u]', text)\n",
        "print(result)"
      ],
      "execution_count": 19,
      "outputs": [
        {
          "output_type": "stream",
          "text": [
            "['Th', 's', '', 's', '', '', 'p', '', 'nt', 'wh', 'r', '', '', '', 'l', 't', '', 'f', 'p', '', 'pl', '', 'd', 'n’t', '', 'gr', '', '.', 'Th', '', 'p', 'th', 't', '', 'b', 'c', 'm', 'ng', '', '', 's', 'ftw', 'r', '', 'd', 'v', 'l', 'p', 'r', '', 's', 'ch', 'ng', 'ng.', '\\n', '', '', '', '', '', '', '', 'C', 'll', 'g', '', '', 's', 'n', '', 'l', 'ng', 'r', 'th', '', 'h', 'rd', 'r', 'q', '', 'r', 'm', 'nt', 'f', 'r', '', 'ntry', 't', '', 'th', '', '', 'nd', 'stry', 'th', 't', '', 't', '', 'nc', '', 'w', 's.', '\\n', '', '', '', '', '', '', '', 'T', 'ch', 'g', '', 'nts', 's', 'ch', '', 's', 'G', '', 'gl', '', '', 'nd', 'Appl', '', 'h', 'v', '', '', 'v', 'n', 'b', 'g', 'n', 't', '', 'w', '', 'v', '', 'th', '', 'r', 'r', 'q', '', 'r', 'm', 'nt', 'f', 'r', 'b', 'ch', 'l', 'rs', 'd', 'gr', '', 's.', '\\n', '', '', '', '', '', '', '', 'Th', 's', '', 's', 'b', 'c', '', 's', '', '', 'nn', 'v', 't', 'v', '', 'c', 'mp', 'n', '', 's', 'r', 'c', 'gn', 's', '', 'th', 't', 'th', '', 'p', '', 'pl', '', 'th', 't', 'th', 'y', 'w', 'nt', 't', '', 'w', 'rk', 'w', 'th', '', 'r', '', 'p', 'ss', '', 'n', 't', ',', 's', 'lf', 'dr', 'v', 'n', '', 'nd', '', '', 'g', 'r', 't', '', 't', 'k', '', '', 'n', 't', '', 't', 'v', '.', '\\n', '', '', '', '', '', '', '', 'All', 'th', 's', '', 'th', 'ngs', 'd', '', 'n', 't', '', 'xpl', 'c', 'tly', 'r', 'q', '', 'r', '', '', '', 'd', 'gr', '', '', '', 'nd', 'w', 'th', 'th', '', 'v', 'st', '', 'm', '', 'nt', '', 'f', 'r', 's', '', 'rc', 's', '', 'n', 'th', '', '', 'nt', 'rn', 't', 'y', '', '', 'c', 'n', 'pr', 'tty', 'm', 'ch', 't', '', 'ch', 'y', '', 'rs', 'lf', '\\n', '', '', '', '', '', '', '', '', 'nyth', 'ng', '', 't', 'h', 'm', ',', '', 's', 'l', 'ng', '', 's', 'y', '', '', '', 'r', '', 'w', 'll', 'ng', 't', '', 'p', 't', '', 'n', 'th', '', '', 'ff', 'rt.', '\\n', '', '', '', '', '', '', '', 'Th', 't', 'b', '', 'ng', 's', '', 'd,', 'd', '', 'ng', 'w', 'll', '', 'n', 'c', 'll', 'g', '', '', 's', '', '', 'b', 'g', 'b', 'n', 's', '', 'nd', 'sh', '', 'ld', 'n', 't', 'b', '', '', 'nd', 'rst', 't', 'd.', '\\n', '', '', '', '', '', '', '', 'Th', 'r', 'f', 'r', '', 'my', '', 'dv', 'c', '', '', 's', 'th', 's,', '', 'f', 'y', '', 'r', 's', 't', '', 't', '', 'n', 'd', '', 's', 'n', 't', '', 'll', 'w', 'y', '', '', 't', '', '', 'tt', 'nd', 'c', 'll', 'g', ',', 'd', 'n’t', 'dw', 'll', '', 'n', '', 't,', '\\n', '', '', '', '', '', '', '', 'th', 'r', '', '', 'r', '', 'm', 'ny', '', 'th', 'r', '', 'v', 'n', '', 's', '', 'p', 'n', 't', '', 'y', '', '.', 'If', 'y', '', '', '', 'r', '', '', 'n', 'c', 'll', 'g', ',', 'th', 'n', 'y', '', '', 'n', '', 'd', 't', '', 'cr', 'sh', '', 't.']\n"
          ],
          "name": "stdout"
        }
      ]
    },
    {
      "cell_type": "code",
      "metadata": {
        "id": "3h3BhxuYmTVB",
        "outputId": "96280095-f39a-4f9d-dbe5-2d26090bf1b7",
        "colab": {
          "base_uri": "https://localhost:8080/",
          "height": 54
        }
      },
      "source": [
        "#maxsplit is the number of maximum splits we want to split the string by pattern occurence\n",
        "result = re.split('[a e i o u]', text, maxsplit = 2)\n",
        "print(result)"
      ],
      "execution_count": 33,
      "outputs": [
        {
          "output_type": "stream",
          "text": [
            "['Th', 's', 'is a point where a lot of people don’t agree. The path to becoming a software developer is changing. \\n        College is no longer the hard requirement for entry to the industry that it once was. \\n        Tech giants such as Google and Apple have even begun to waive their requirement for bachelors degrees. \\n        This is because innovative companies recognise that the people that they want to work with are passionate, self driven and eager to take initiative. \\n        All these things do not explicitly require a degree and with the vast amount of resources on the internet you can pretty much teach yourself \\n        anything at home, as long as you are willing to put in the effort. \\n        That being said, doing well in college is a big bonus and should not be understated. \\n        Therefore my advice is this, if your situation does not allow you to attend college, don’t dwell on it, \\n        there are many other avenues open to you. If you are in college, then you need to crush it.']\n"
          ],
          "name": "stdout"
        }
      ]
    },
    {
      "cell_type": "code",
      "metadata": {
        "id": "zNImLCrnn9Vx",
        "outputId": "fea0a544-f323-47f8-e03b-e91224a1ba4c",
        "colab": {
          "base_uri": "https://localhost:8080/",
          "height": 170
        }
      },
      "source": [
        "#re.sub - it will search the pattern and replace with new string \n",
        "result = re.sub('[a]', '@', text)\n",
        "print(result)"
      ],
      "execution_count": 27,
      "outputs": [
        {
          "output_type": "stream",
          "text": [
            "This is @ point where @ lot of people don’t @gree. The p@th to becoming @ softw@re developer is ch@nging. \n",
            "        College is no longer the h@rd requirement for entry to the industry th@t it once w@s. \n",
            "        Tech gi@nts such @s Google @nd Apple h@ve even begun to w@ive their requirement for b@chelors degrees. \n",
            "        This is bec@use innov@tive comp@nies recognise th@t the people th@t they w@nt to work with @re p@ssion@te, self driven @nd e@ger to t@ke initi@tive. \n",
            "        All these things do not explicitly require @ degree @nd with the v@st @mount of resources on the internet you c@n pretty much te@ch yourself \n",
            "        @nything @t home, @s long @s you @re willing to put in the effort. \n",
            "        Th@t being s@id, doing well in college is @ big bonus @nd should not be underst@ted. \n",
            "        Therefore my @dvice is this, if your situ@tion does not @llow you to @ttend college, don’t dwell on it, \n",
            "        there @re m@ny other @venues open to you. If you @re in college, then you need to crush it.\n"
          ],
          "name": "stdout"
        }
      ]
    },
    {
      "cell_type": "code",
      "metadata": {
        "id": "4t3NX6mJoWVb",
        "outputId": "05448ab2-1df7-46f5-e944-3dc257877211",
        "colab": {
          "base_uri": "https://localhost:8080/",
          "height": 34
        }
      },
      "source": [
        "#re.compile - this will convert patterns into pattern objects so they can be reused\n",
        "pattern = re.compile('long')\n",
        "result = pattern.findall(text)\n",
        "print(result)"
      ],
      "execution_count": 29,
      "outputs": [
        {
          "output_type": "stream",
          "text": [
            "['long', 'long']\n"
          ],
          "name": "stdout"
        }
      ]
    },
    {
      "cell_type": "code",
      "metadata": {
        "id": "ECdtj2NipCtE"
      },
      "source": [
        ""
      ],
      "execution_count": null,
      "outputs": []
    }
  ]
}