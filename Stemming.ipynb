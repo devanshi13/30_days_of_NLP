{
 "cells": [
  {
   "cell_type": "code",
   "execution_count": 1,
   "metadata": {},
   "outputs": [],
   "source": [
    "import nltk\n",
    "from nltk.tokenize import word_tokenize"
   ]
  },
  {
   "cell_type": "code",
   "execution_count": 2,
   "metadata": {},
   "outputs": [],
   "source": [
    "text = \"\"\"I have three visions for India. \n",
    "In 3000 years of our history people from all over the world have come and invaded us, \n",
    "captured our lands, conquered our minds. From Alexander onwards the Greeks, the Turks, \n",
    "the Moguls, the Portuguese, the British, the French, the Dutch, \n",
    "all of them came and looted us, took over what was ours. \n",
    "Yet we have not done this to any other nation. We have not conquered anyone. \n",
    "We have not grabbed their land, their culture and their history and tried to \n",
    "enforce our way of life on them. Why? Because we respect the freedom of others. \n",
    "That is why my FIRST VISION is that of FREEDOM. \n",
    "I believe that India got its first vision of this in 1857, when we started the war of Independence. \n",
    "It is this freedom that we must protect and nurture and build on. If we are not free, no one will respect us.\"\"\""
   ]
  },
  {
   "cell_type": "code",
   "execution_count": 3,
   "metadata": {},
   "outputs": [],
   "source": [
    "word_list = word_tokenize(text)"
   ]
  },
  {
   "cell_type": "markdown",
   "metadata": {},
   "source": [
    "### 1. Porter Stemmer"
   ]
  },
  {
   "cell_type": "code",
   "execution_count": 4,
   "metadata": {},
   "outputs": [],
   "source": [
    "from nltk.stem.porter import PorterStemmer\n",
    "ps = PorterStemmer()"
   ]
  },
  {
   "cell_type": "code",
   "execution_count": 5,
   "metadata": {},
   "outputs": [
    {
     "name": "stdout",
     "output_type": "stream",
     "text": [
      "['I', 'have', 'three', 'vision', 'for', 'india', '.', 'In', '3000', 'year', 'of', 'our', 'histori', 'peopl', 'from', 'all', 'over', 'the', 'world', 'have', 'come', 'and', 'invad', 'us', ',', 'captur', 'our', 'land', ',', 'conquer', 'our', 'mind', '.', 'from', 'alexand', 'onward', 'the', 'greek', ',', 'the', 'turk', ',', 'the', 'mogul', ',', 'the', 'portugues', ',', 'the', 'british', ',', 'the', 'french', ',', 'the', 'dutch', ',', 'all', 'of', 'them', 'came', 'and', 'loot', 'us', ',', 'took', 'over', 'what', 'wa', 'our', '.', 'yet', 'we', 'have', 'not', 'done', 'thi', 'to', 'ani', 'other', 'nation', '.', 'We', 'have', 'not', 'conquer', 'anyon', '.', 'We', 'have', 'not', 'grab', 'their', 'land', ',', 'their', 'cultur', 'and', 'their', 'histori', 'and', 'tri', 'to', 'enforc', 'our', 'way', 'of', 'life', 'on', 'them', '.', 'whi', '?', 'becaus', 'we', 'respect', 'the', 'freedom', 'of', 'other', '.', 'that', 'is', 'whi', 'my', 'first', 'vision', 'is', 'that', 'of', 'freedom', '.', 'I', 'believ', 'that', 'india', 'got', 'it', 'first', 'vision', 'of', 'thi', 'in', '1857', ',', 'when', 'we', 'start', 'the', 'war', 'of', 'independ', '.', 'It', 'is', 'thi', 'freedom', 'that', 'we', 'must', 'protect', 'and', 'nurtur', 'and', 'build', 'on', '.', 'If', 'we', 'are', 'not', 'free', ',', 'no', 'one', 'will', 'respect', 'us', '.']\n"
     ]
    }
   ],
   "source": [
    "result = [ps.stem(word) for word in word_list]\n",
    "print(result)"
   ]
  },
  {
   "cell_type": "markdown",
   "metadata": {},
   "source": [
    "### 2. Snowball Stemmer"
   ]
  },
  {
   "cell_type": "code",
   "execution_count": 7,
   "metadata": {},
   "outputs": [],
   "source": [
    "from nltk.stem.snowball import SnowballStemmer\n",
    "sbs = SnowballStemmer(\"english\")"
   ]
  },
  {
   "cell_type": "code",
   "execution_count": 8,
   "metadata": {},
   "outputs": [
    {
     "name": "stdout",
     "output_type": "stream",
     "text": [
      "['i', 'have', 'three', 'vision', 'for', 'india', '.', 'in', '3000', 'year', 'of', 'our', 'histori', 'peopl', 'from', 'all', 'over', 'the', 'world', 'have', 'come', 'and', 'invad', 'us', ',', 'captur', 'our', 'land', ',', 'conquer', 'our', 'mind', '.', 'from', 'alexand', 'onward', 'the', 'greek', ',', 'the', 'turk', ',', 'the', 'mogul', ',', 'the', 'portugues', ',', 'the', 'british', ',', 'the', 'french', ',', 'the', 'dutch', ',', 'all', 'of', 'them', 'came', 'and', 'loot', 'us', ',', 'took', 'over', 'what', 'was', 'our', '.', 'yet', 'we', 'have', 'not', 'done', 'this', 'to', 'ani', 'other', 'nation', '.', 'we', 'have', 'not', 'conquer', 'anyon', '.', 'we', 'have', 'not', 'grab', 'their', 'land', ',', 'their', 'cultur', 'and', 'their', 'histori', 'and', 'tri', 'to', 'enforc', 'our', 'way', 'of', 'life', 'on', 'them', '.', 'whi', '?', 'becaus', 'we', 'respect', 'the', 'freedom', 'of', 'other', '.', 'that', 'is', 'whi', 'my', 'first', 'vision', 'is', 'that', 'of', 'freedom', '.', 'i', 'believ', 'that', 'india', 'got', 'it', 'first', 'vision', 'of', 'this', 'in', '1857', ',', 'when', 'we', 'start', 'the', 'war', 'of', 'independ', '.', 'it', 'is', 'this', 'freedom', 'that', 'we', 'must', 'protect', 'and', 'nurtur', 'and', 'build', 'on', '.', 'if', 'we', 'are', 'not', 'free', ',', 'no', 'one', 'will', 'respect', 'us', '.']\n"
     ]
    }
   ],
   "source": [
    "result = [sbs.stem(word) for word in word_list]\n",
    "print(result)"
   ]
  },
  {
   "cell_type": "markdown",
   "metadata": {},
   "source": [
    "### 3. Lancaster Stemmer"
   ]
  },
  {
   "cell_type": "code",
   "execution_count": 9,
   "metadata": {},
   "outputs": [],
   "source": [
    "from nltk.stem.lancaster import LancasterStemmer\n",
    "ls = LancasterStemmer()"
   ]
  },
  {
   "cell_type": "code",
   "execution_count": 10,
   "metadata": {},
   "outputs": [
    {
     "name": "stdout",
     "output_type": "stream",
     "text": [
      "['i', 'hav', 'three', 'vis', 'for', 'ind', '.', 'in', '3000', 'year', 'of', 'our', 'hist', 'peopl', 'from', 'al', 'ov', 'the', 'world', 'hav', 'com', 'and', 'invad', 'us', ',', 'capt', 'our', 'land', ',', 'conqu', 'our', 'mind', '.', 'from', 'alexand', 'onward', 'the', 'greek', ',', 'the', 'turk', ',', 'the', 'mog', ',', 'the', 'portugues', ',', 'the', 'brit', ',', 'the', 'french', ',', 'the', 'dutch', ',', 'al', 'of', 'them', 'cam', 'and', 'loot', 'us', ',', 'took', 'ov', 'what', 'was', 'our', '.', 'yet', 'we', 'hav', 'not', 'don', 'thi', 'to', 'any', 'oth', 'nat', '.', 'we', 'hav', 'not', 'conqu', 'anyon', '.', 'we', 'hav', 'not', 'grab', 'their', 'land', ',', 'their', 'cult', 'and', 'their', 'hist', 'and', 'tri', 'to', 'enforc', 'our', 'way', 'of', 'lif', 'on', 'them', '.', 'why', '?', 'becaus', 'we', 'respect', 'the', 'freedom', 'of', 'oth', '.', 'that', 'is', 'why', 'my', 'first', 'vis', 'is', 'that', 'of', 'freedom', '.', 'i', 'believ', 'that', 'ind', 'got', 'it', 'first', 'vis', 'of', 'thi', 'in', '1857', ',', 'when', 'we', 'start', 'the', 'war', 'of', 'independ', '.', 'it', 'is', 'thi', 'freedom', 'that', 'we', 'must', 'protect', 'and', 'nurt', 'and', 'build', 'on', '.', 'if', 'we', 'ar', 'not', 'fre', ',', 'no', 'on', 'wil', 'respect', 'us', '.']\n"
     ]
    }
   ],
   "source": [
    "result = [ls.stem(word) for word in word_list]\n",
    "print(result)"
   ]
  },
  {
   "cell_type": "code",
   "execution_count": null,
   "metadata": {},
   "outputs": [],
   "source": []
  }
 ],
 "metadata": {
  "kernelspec": {
   "display_name": "Python 3",
   "language": "python",
   "name": "python3"
  },
  "language_info": {
   "codemirror_mode": {
    "name": "ipython",
    "version": 3
   },
   "file_extension": ".py",
   "mimetype": "text/x-python",
   "name": "python",
   "nbconvert_exporter": "python",
   "pygments_lexer": "ipython3",
   "version": "3.6.10"
  }
 },
 "nbformat": 4,
 "nbformat_minor": 4
}
