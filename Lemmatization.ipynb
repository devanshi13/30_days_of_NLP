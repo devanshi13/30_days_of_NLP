{
 "cells": [
  {
   "cell_type": "code",
   "execution_count": 1,
   "metadata": {},
   "outputs": [],
   "source": [
    "text = \"\"\"I have three visions for India. \n",
    "In 3000 years of our history people from all over the world have come and invaded us, \n",
    "captured our lands, conquered our minds. From Alexander onwards the Greeks, the Turks, \n",
    "the Moguls, the Portuguese, the British, the French, the Dutch, \n",
    "all of them came and looted us, took over what was ours. \n",
    "Yet we have not done this to any other nation. We have not conquered anyone. \n",
    "We have not grabbed their land, their culture and their history and tried to \n",
    "enforce our way of life on them. Why? Because we respect the freedom of others. \n",
    "That is why my FIRST VISION is that of FREEDOM. \n",
    "I believe that India got its first vision of this in 1857, when we started the war of Independence. \n",
    "It is this freedom that we must protect and nurture and build on. If we are not free, no one will respect us.\"\"\""
   ]
  },
  {
   "cell_type": "markdown",
   "metadata": {},
   "source": [
    "### 1. WordNet Lemmatizer using nltk"
   ]
  },
  {
   "cell_type": "code",
   "execution_count": 3,
   "metadata": {},
   "outputs": [
    {
     "name": "stderr",
     "output_type": "stream",
     "text": [
      "[nltk_data] Downloading package wordnet to\n",
      "[nltk_data]     C:\\Users\\devan\\AppData\\Roaming\\nltk_data...\n",
      "[nltk_data]   Package wordnet is already up-to-date!\n"
     ]
    }
   ],
   "source": [
    "import nltk\n",
    "nltk.download('wordnet')\n",
    "from nltk.tokenize import word_tokenize\n",
    "from nltk.stem import WordNetLemmatizer"
   ]
  },
  {
   "cell_type": "code",
   "execution_count": 10,
   "metadata": {},
   "outputs": [
    {
     "name": "stdout",
     "output_type": "stream",
     "text": [
      "I have three vision for India . In 3000 year of our history people from all over the world have come and invaded u , captured our land , conquered our mind . From Alexander onwards the Greeks , the Turks , the Moguls , the Portuguese , the British , the French , the Dutch , all of them came and looted u , took over what wa ours . Yet we have not done this to any other nation . We have not conquered anyone . We have not grabbed their land , their culture and their history and tried to enforce our way of life on them . Why ? Because we respect the freedom of others . That is why my FIRST VISION is that of FREEDOM . I believe that India got it first vision of this in 1857 , when we started the war of Independence . It is this freedom that we must protect and nurture and build on . If we are not free , no one will respect u .\n"
     ]
    }
   ],
   "source": [
    "lemma = WordNetLemmatizer()\n",
    "wordlist = word_tokenize(text)\n",
    "result = ' '.join([lemma.lemmatize(w) for w in wordlist])\n",
    "print(result)"
   ]
  },
  {
   "cell_type": "markdown",
   "metadata": {},
   "source": [
    "### 2. Using Spacy Lemmatizer"
   ]
  },
  {
   "cell_type": "code",
   "execution_count": 15,
   "metadata": {},
   "outputs": [
    {
     "name": "stdout",
     "output_type": "stream",
     "text": [
      "I have three vision for India . \n",
      " in 3000 year of our history people from all over the world have come and invade we , \n",
      " capture our land , conquer our mind . from Alexander onwards the Greeks , the Turks , \n",
      " the Moguls , the Portuguese , the British , the French , the Dutch , \n",
      " all of they come and loot we , take over what be ours . \n",
      " yet we have not do this to any other nation . we have not conquer anyone . \n",
      " we have not grab their land , their culture and their history and try to \n",
      " enforce our way of life on they . why ? because we respect the freedom of other . \n",
      " that be why my first VISION be that of FREEDOM . \n",
      " I believe that India get its first vision of this in 1857 , when we start the war of Independence . \n",
      " it be this freedom that we must protect and nurture and build on . if we be not free , no one will respect we .\n"
     ]
    }
   ],
   "source": [
    "import spacy\n",
    "nlp = spacy.load('en_core_web_sm', disable=['parser','ner'])\n",
    "doc = nlp(text)\n",
    "result = ' '.join([token.lemma_ for token in doc])\n",
    "print(result)"
   ]
  },
  {
   "cell_type": "markdown",
   "metadata": {},
   "source": [
    "### 3. Using TextBlob Lemmatizer"
   ]
  },
  {
   "cell_type": "code",
   "execution_count": 16,
   "metadata": {},
   "outputs": [
    {
     "name": "stdout",
     "output_type": "stream",
     "text": [
      "I have three vision for India In 3000 year of our history people from all over the world have come and invaded u captured our land conquered our mind From Alexander onwards the Greeks the Turks the Moguls the Portuguese the British the French the Dutch all of them came and looted u took over what wa ours Yet we have not done this to any other nation We have not conquered anyone We have not grabbed their land their culture and their history and tried to enforce our way of life on them Why Because we respect the freedom of others That is why my FIRST VISION is that of FREEDOM I believe that India got it first vision of this in 1857 when we started the war of Independence It is this freedom that we must protect and nurture and build on If we are not free no one will respect u\n"
     ]
    }
   ],
   "source": [
    "from textblob import Word, TextBlob\n",
    "word = Word('Visions')\n",
    "sent = TextBlob(text)\n",
    "result = ' '.join([w.lemmatize() for w in sent.words])\n",
    "print(result)"
   ]
  },
  {
   "cell_type": "code",
   "execution_count": null,
   "metadata": {},
   "outputs": [],
   "source": []
  }
 ],
 "metadata": {
  "kernelspec": {
   "display_name": "Python 3",
   "language": "python",
   "name": "python3"
  },
  "language_info": {
   "codemirror_mode": {
    "name": "ipython",
    "version": 3
   },
   "file_extension": ".py",
   "mimetype": "text/x-python",
   "name": "python",
   "nbconvert_exporter": "python",
   "pygments_lexer": "ipython3",
   "version": "3.6.10"
  }
 },
 "nbformat": 4,
 "nbformat_minor": 4
}
